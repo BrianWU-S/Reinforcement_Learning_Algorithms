{
 "cells": [
  {
   "cell_type": "code",
   "execution_count": 1,
   "metadata": {},
   "outputs": [
    {
     "name": "stdout",
     "output_type": "stream",
     "text": [
      "Populating the interactive namespace from numpy and matplotlib\n"
     ]
    }
   ],
   "source": [
    "import numpy as np\n",
    "from tqdm import tqdm\n",
    "import matplotlib.pyplot as plt\n",
    "import seaborn as sns\n",
    "sns.set_style(\"darkgrid\")\n",
    "%pylab inline\n",
    "import random"
   ]
  },
  {
   "cell_type": "code",
   "execution_count": 20,
   "metadata": {},
   "outputs": [],
   "source": [
    "gamma = 1 # discounting rate\n",
    "rewardSize = -1\n",
    "gridSize = 6\n",
    "terminationStates = [[0,1], [gridSize-1, gridSize-1]]\n",
    "actions = [[-1, 0], [1, 0], [0, 1], [0, -1]]\n",
    "numIterations = 1000"
   ]
  },
  {
   "cell_type": "code",
   "execution_count": 21,
   "metadata": {},
   "outputs": [],
   "source": [
    "def actionRewardFunction(initialPosition, action):\n",
    "    \n",
    "    if initialPosition in terminationStates:\n",
    "        return initialPosition, 0\n",
    "    \n",
    "    reward = rewardSize\n",
    "    finalPosition = np.array(initialPosition) + np.array(action)\n",
    "    if -1 in finalPosition or 6 in finalPosition: \n",
    "        finalPosition = initialPosition\n",
    "        \n",
    "    return finalPosition, reward"
   ]
  },
  {
   "cell_type": "code",
   "execution_count": 52,
   "metadata": {},
   "outputs": [],
   "source": [
    "valueMap = np.zeros((gridSize, gridSize))\n",
    "states = [[i, j] for i in range(gridSize) for j in range(gridSize)]"
   ]
  },
  {
   "cell_type": "code",
   "execution_count": 38,
   "metadata": {},
   "outputs": [
    {
     "data": {
      "text/plain": [
       "[[0, 0],\n",
       " [0, 1],\n",
       " [0, 2],\n",
       " [0, 3],\n",
       " [0, 4],\n",
       " [0, 5],\n",
       " [1, 0],\n",
       " [1, 1],\n",
       " [1, 2],\n",
       " [1, 3],\n",
       " [1, 4],\n",
       " [1, 5],\n",
       " [2, 0],\n",
       " [2, 1],\n",
       " [2, 2],\n",
       " [2, 3],\n",
       " [2, 4],\n",
       " [2, 5],\n",
       " [3, 0],\n",
       " [3, 1],\n",
       " [3, 2],\n",
       " [3, 3],\n",
       " [3, 4],\n",
       " [3, 5],\n",
       " [4, 0],\n",
       " [4, 1],\n",
       " [4, 2],\n",
       " [4, 3],\n",
       " [4, 4],\n",
       " [4, 5],\n",
       " [5, 0],\n",
       " [5, 1],\n",
       " [5, 2],\n",
       " [5, 3],\n",
       " [5, 4],\n",
       " [5, 5]]"
      ]
     },
     "execution_count": 38,
     "metadata": {},
     "output_type": "execute_result"
    }
   ],
   "source": [
    "states"
   ]
  },
  {
   "cell_type": "code",
   "execution_count": 53,
   "metadata": {},
   "outputs": [
    {
     "data": {
      "text/plain": [
       "array([[0., 0., 0., 0., 0., 0.],\n",
       "       [0., 0., 0., 0., 0., 0.],\n",
       "       [0., 0., 0., 0., 0., 0.],\n",
       "       [0., 0., 0., 0., 0., 0.],\n",
       "       [0., 0., 0., 0., 0., 0.],\n",
       "       [0., 0., 0., 0., 0., 0.]])"
      ]
     },
     "execution_count": 53,
     "metadata": {},
     "output_type": "execute_result"
    }
   ],
   "source": [
    "valueMap"
   ]
  },
  {
   "cell_type": "code",
   "execution_count": 56,
   "metadata": {},
   "outputs": [
    {
     "data": {
      "text/plain": [
       "array([[0.0001, 0.0001, 0.0001, 0.0001, 0.0001, 0.0001],\n",
       "       [0.0001, 0.0001, 0.0001, 0.0001, 0.0001, 0.0001],\n",
       "       [0.0001, 0.0001, 0.0001, 0.0001, 0.0001, 0.0001],\n",
       "       [0.0001, 0.0001, 0.0001, 0.0001, 0.0001, 0.0001],\n",
       "       [0.0001, 0.0001, 0.0001, 0.0001, 0.0001, 0.0001],\n",
       "       [0.0001, 0.0001, 0.0001, 0.0001, 0.0001, 0.0001]])"
      ]
     },
     "execution_count": 56,
     "metadata": {},
     "output_type": "execute_result"
    }
   ],
   "source": [
    "tmp=np.copy(valueMap)\n",
    "tmp=tmp+1e-4\n",
    "tmp"
   ]
  },
  {
   "cell_type": "code",
   "execution_count": 57,
   "metadata": {},
   "outputs": [
    {
     "data": {
      "text/plain": [
       "False"
      ]
     },
     "execution_count": 57,
     "metadata": {},
     "output_type": "execute_result"
    }
   ],
   "source": [
    "np.all(np.abs(tmp-valueMap)<1e-5)"
   ]
  },
  {
   "cell_type": "code",
   "execution_count": 51,
   "metadata": {},
   "outputs": [
    {
     "data": {
      "text/plain": [
       "False"
      ]
     },
     "execution_count": 51,
     "metadata": {},
     "output_type": "execute_result"
    }
   ],
   "source": [
    "np.all(tmp==valueMap)"
   ]
  },
  {
   "cell_type": "code",
   "execution_count": null,
   "metadata": {},
   "outputs": [],
   "source": []
  },
  {
   "cell_type": "code",
   "execution_count": 27,
   "metadata": {},
   "outputs": [
    {
     "data": {
      "text/plain": [
       "array([[0.25, 0.25, 0.25, 0.25],\n",
       "       [0.25, 0.25, 0.25, 0.25],\n",
       "       [0.25, 0.25, 0.25, 0.25],\n",
       "       [0.25, 0.25, 0.25, 0.25],\n",
       "       [0.25, 0.25, 0.25, 0.25],\n",
       "       [0.25, 0.25, 0.25, 0.25],\n",
       "       [0.25, 0.25, 0.25, 0.25],\n",
       "       [0.25, 0.25, 0.25, 0.25],\n",
       "       [0.25, 0.25, 0.25, 0.25],\n",
       "       [0.25, 0.25, 0.25, 0.25],\n",
       "       [0.25, 0.25, 0.25, 0.25],\n",
       "       [0.25, 0.25, 0.25, 0.25],\n",
       "       [0.25, 0.25, 0.25, 0.25],\n",
       "       [0.25, 0.25, 0.25, 0.25],\n",
       "       [0.25, 0.25, 0.25, 0.25],\n",
       "       [0.25, 0.25, 0.25, 0.25],\n",
       "       [0.25, 0.25, 0.25, 0.25],\n",
       "       [0.25, 0.25, 0.25, 0.25],\n",
       "       [0.25, 0.25, 0.25, 0.25],\n",
       "       [0.25, 0.25, 0.25, 0.25],\n",
       "       [0.25, 0.25, 0.25, 0.25],\n",
       "       [0.25, 0.25, 0.25, 0.25],\n",
       "       [0.25, 0.25, 0.25, 0.25],\n",
       "       [0.25, 0.25, 0.25, 0.25],\n",
       "       [0.25, 0.25, 0.25, 0.25],\n",
       "       [0.25, 0.25, 0.25, 0.25],\n",
       "       [0.25, 0.25, 0.25, 0.25],\n",
       "       [0.25, 0.25, 0.25, 0.25],\n",
       "       [0.25, 0.25, 0.25, 0.25],\n",
       "       [0.25, 0.25, 0.25, 0.25],\n",
       "       [0.25, 0.25, 0.25, 0.25],\n",
       "       [0.25, 0.25, 0.25, 0.25],\n",
       "       [0.25, 0.25, 0.25, 0.25],\n",
       "       [0.25, 0.25, 0.25, 0.25],\n",
       "       [0.25, 0.25, 0.25, 0.25],\n",
       "       [0.25, 0.25, 0.25, 0.25]])"
      ]
     },
     "execution_count": 27,
     "metadata": {},
     "output_type": "execute_result"
    }
   ],
   "source": [
    "actionMap = 0.25 * np.ones((np.shape(states)[0], np.shape(actions)[0]))\n",
    "actionMap"
   ]
  },
  {
   "cell_type": "code",
   "execution_count": 35,
   "metadata": {},
   "outputs": [
    {
     "data": {
      "text/plain": [
       "False"
      ]
     },
     "execution_count": 35,
     "metadata": {},
     "output_type": "execute_result"
    }
   ],
   "source": [
    "np.all(actionMap[0]==actionMap[1])"
   ]
  },
  {
   "cell_type": "code",
   "execution_count": 24,
   "metadata": {},
   "outputs": [
    {
     "name": "stdout",
     "output_type": "stream",
     "text": [
      "Iteration 1\n",
      "[[-1.  0. -1. -1. -1. -1.]\n",
      " [-1. -1. -1. -1. -1. -1.]\n",
      " [-1. -1. -1. -1. -1. -1.]\n",
      " [-1. -1. -1. -1. -1. -1.]\n",
      " [-1. -1. -1. -1. -1. -1.]\n",
      " [-1. -1. -1. -1. -1.  0.]]\n",
      "\n",
      "Iteration 2\n",
      "[[-1.75  0.   -1.75 -2.   -2.   -2.  ]\n",
      " [-2.   -1.75 -2.   -2.   -2.   -2.  ]\n",
      " [-2.   -2.   -2.   -2.   -2.   -2.  ]\n",
      " [-2.   -2.   -2.   -2.   -2.   -2.  ]\n",
      " [-2.   -2.   -2.   -2.   -2.   -1.75]\n",
      " [-2.   -2.   -2.   -2.   -1.75  0.  ]]\n",
      "\n",
      "Iteration 3\n",
      "[[-2.375   0.     -2.4375 -2.9375 -3.     -3.    ]\n",
      " [-2.875  -2.5    -2.875  -3.     -3.     -3.    ]\n",
      " [-3.     -2.9375 -3.     -3.     -3.     -3.    ]\n",
      " [-3.     -3.     -3.     -3.     -3.     -2.9375]\n",
      " [-3.     -3.     -3.     -3.     -2.875  -2.4375]\n",
      " [-3.     -3.     -3.     -2.9375 -2.4375  0.    ]]\n",
      "\n",
      "Iteration 10\n",
      "[[-5.18192291  0.         -6.32034683 -8.7159996  -9.57571411 -9.83536148]\n",
      " [-7.56069183 -6.65256119 -8.1984024  -9.23065567 -9.67491913 -9.80172348]\n",
      " [-9.03197098 -8.88976288 -9.26709747 -9.56587219 -9.62711334 -9.55506516]\n",
      " [-9.67467117 -9.63458252 -9.65802765 -9.55181885 -9.19245529 -8.6947403 ]\n",
      " [-9.89365768 -9.84027481 -9.68093109 -9.20233917 -8.08546066 -6.2858963 ]\n",
      " [-9.94763947 -9.86627197 -9.57886505 -8.70037079 -6.28659058  0.        ]]\n",
      "\n",
      "Iteration 100\n",
      "[[-16.20312847   0.         -25.74949288 -38.7083815  -45.19783166\n",
      "  -47.88432537]\n",
      " [-28.56862166 -26.58889932 -34.82673068 -41.62016199 -45.52624083\n",
      "  -47.13220988]\n",
      " [-39.22516562 -39.25575449 -41.74224172 -43.89767433 -44.6839472\n",
      "  -44.53697859]\n",
      " [-46.3015346  -45.91914926 -45.47124207 -44.05293107 -41.29315773\n",
      "  -38.31140396]\n",
      " [-50.31059119 -49.19211171 -46.70565076 -42.06289858 -34.60017614\n",
      "  -25.54207516]\n",
      " [-52.04916426 -50.42659332 -46.65247264 -39.38402779 -25.89706414\n",
      "    0.        ]]\n",
      "\n",
      "Iteration 999\n",
      "[[-18.16963974   0.         -29.21986395 -44.06359072 -51.55885318\n",
      "  -54.68018403]\n",
      " [-32.33927949 -30.16764656 -39.59600113 -47.41205504 -51.9327848\n",
      "  -53.80151488]\n",
      " [-44.68055216 -44.73530562 -47.58443897 -50.05584352 -50.95871608\n",
      "  -50.79157583]\n",
      " [-52.96707138 -52.50858481 -51.9506056  -50.268164   -47.05466018\n",
      "  -43.61449652]\n",
      " [-57.71207718 -56.38135663 -53.44123462 -48.01154672 -39.37726413\n",
      "  -28.99725355]\n",
      " [-59.78780354 -57.8635299  -53.42142954 -44.95952411 -29.44559608\n",
      "    0.        ]]\n",
      "\n",
      "Iteration 1000\n",
      "[[-18.16963974   0.         -29.21986395 -44.06359073 -51.55885318\n",
      "  -54.68018403]\n",
      " [-32.33927949 -30.16764656 -39.59600113 -47.41205504 -51.9327848\n",
      "  -53.80151488]\n",
      " [-44.68055217 -44.73530563 -47.58443897 -50.05584352 -50.95871608\n",
      "  -50.79157583]\n",
      " [-52.96707138 -52.50858481 -51.9506056  -50.26816401 -47.05466018\n",
      "  -43.61449652]\n",
      " [-57.71207718 -56.38135663 -53.44123462 -48.01154672 -39.37726413\n",
      "  -28.99725355]\n",
      " [-59.78780354 -57.8635299  -53.42142954 -44.95952411 -29.44559608\n",
      "    0.        ]]\n",
      "\n"
     ]
    }
   ],
   "source": [
    "deltas = []\n",
    "for it in range(numIterations):\n",
    "    copyValueMap = np.copy(valueMap)\n",
    "    deltaState = []\n",
    "    for state in states:\n",
    "        weightedRewards = 0\n",
    "        for action in actions:\n",
    "            finalPosition, reward = actionRewardFunction(state, action)\n",
    "            weightedRewards += (1/len(actions))*(reward+(gamma*valueMap[finalPosition[0], finalPosition[1]]))\n",
    "        deltaState.append(np.abs(copyValueMap[state[0], state[1]]-weightedRewards))\n",
    "        copyValueMap[state[0], state[1]] = weightedRewards\n",
    "    deltas.append(deltaState)\n",
    "    valueMap = copyValueMap\n",
    "    if it in [0,1,2,9, 99, numIterations-2,numIterations-1]:\n",
    "        print(\"Iteration {}\".format(it+1))\n",
    "        print(valueMap)\n",
    "        print(\"\")"
   ]
  },
  {
   "cell_type": "code",
   "execution_count": 25,
   "metadata": {},
   "outputs": [
    {
     "data": {
      "text/plain": [
       "[<matplotlib.lines.Line2D at 0x1730c20a700>,\n",
       " <matplotlib.lines.Line2D at 0x1730c20a880>,\n",
       " <matplotlib.lines.Line2D at 0x1730c20a2e0>,\n",
       " <matplotlib.lines.Line2D at 0x1730c20a370>,\n",
       " <matplotlib.lines.Line2D at 0x1730c20a340>,\n",
       " <matplotlib.lines.Line2D at 0x1730c20a310>,\n",
       " <matplotlib.lines.Line2D at 0x1730c43af10>,\n",
       " <matplotlib.lines.Line2D at 0x1730c43aa60>,\n",
       " <matplotlib.lines.Line2D at 0x1730c43a4c0>,\n",
       " <matplotlib.lines.Line2D at 0x1730c43a100>,\n",
       " <matplotlib.lines.Line2D at 0x1730c428eb0>,\n",
       " <matplotlib.lines.Line2D at 0x1730c43a730>,\n",
       " <matplotlib.lines.Line2D at 0x1730c43adc0>,\n",
       " <matplotlib.lines.Line2D at 0x1730c43a040>,\n",
       " <matplotlib.lines.Line2D at 0x1730c43ad90>,\n",
       " <matplotlib.lines.Line2D at 0x1730c43acd0>,\n",
       " <matplotlib.lines.Line2D at 0x1730c43a880>,\n",
       " <matplotlib.lines.Line2D at 0x1730c43aca0>,\n",
       " <matplotlib.lines.Line2D at 0x1730c43ac10>,\n",
       " <matplotlib.lines.Line2D at 0x1730c43ab80>,\n",
       " <matplotlib.lines.Line2D at 0x1730c43afd0>,\n",
       " <matplotlib.lines.Line2D at 0x1730c43ad30>,\n",
       " <matplotlib.lines.Line2D at 0x172d653adf0>,\n",
       " <matplotlib.lines.Line2D at 0x172d653a670>,\n",
       " <matplotlib.lines.Line2D at 0x172d653ad90>,\n",
       " <matplotlib.lines.Line2D at 0x172d653a340>,\n",
       " <matplotlib.lines.Line2D at 0x1730c437fd0>,\n",
       " <matplotlib.lines.Line2D at 0x1730c437c10>,\n",
       " <matplotlib.lines.Line2D at 0x1730c437760>,\n",
       " <matplotlib.lines.Line2D at 0x1730c4372b0>,\n",
       " <matplotlib.lines.Line2D at 0x1730c437b20>,\n",
       " <matplotlib.lines.Line2D at 0x1730cb75b80>,\n",
       " <matplotlib.lines.Line2D at 0x1730cb757c0>,\n",
       " <matplotlib.lines.Line2D at 0x1730cb75400>,\n",
       " <matplotlib.lines.Line2D at 0x1730cb75430>,\n",
       " <matplotlib.lines.Line2D at 0x1730cb75e80>]"
      ]
     },
     "execution_count": 25,
     "metadata": {},
     "output_type": "execute_result"
    },
    {
     "data": {
      "image/png": "[encoded data removed]",
      "text/plain": [
       "<Figure size 1440x720 with 1 Axes>"
      ]
     },
     "metadata": {
      "needs_background": "light"
     },
     "output_type": "display_data"
    }
   ],
   "source": [
    "plt.figure(figsize=(20, 10))\n",
    "plt.plot(deltas)"
   ]
  },
  {
   "cell_type": "code",
   "execution_count": null,
   "metadata": {},
   "outputs": [],
   "source": []
  }
 ],
 "metadata": {
  "kernelspec": {
   "display_name": "Python 3",
   "language": "python",
   "name": "python3"
  },
  "language_info": {
   "codemirror_mode": {
    "name": "ipython",
    "version": 3
   },
   "file_extension": ".py",
   "mimetype": "text/x-python",
   "name": "python",
   "nbconvert_exporter": "python",
   "pygments_lexer": "ipython3",
   "version": "3.8.5"
  }
 },
 "nbformat": 4,
 "nbformat_minor": 4
}
